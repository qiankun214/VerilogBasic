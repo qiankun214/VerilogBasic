{
 "cells": [
  {
   "cell_type": "markdown",
   "metadata": {},
   "source": [
    "# 动态声明某个名称的变量\n",
    "在autoeda的开发中，需要这样一种操作：Verilog源文件中有一个parameter，比如名称为A，某个端口B根据该parameter参数化，现在需要计算出B端口的实际位宽，autoeda中，解决这个方法是：\n",
    "1. 声明名称A的变量，变量值为parameter的值\n",
    "2. 将位宽表达式的冒号变成减号，调用eval方法计算出结果\n",
    "\n",
    "这个方法的第一步需要根据A的名称生成一个变量，使用`locals()[] = `的方法"
   ]
  },
  {
   "cell_type": "code",
   "execution_count": 4,
   "metadata": {},
   "outputs": [
    {
     "name": "stdout",
     "output_type": "stream",
     "text": [
      "12\n"
     ]
    }
   ],
   "source": [
    "locals()[\"A\"] = 12\n",
    "print(A)"
   ]
  },
  {
   "cell_type": "code",
   "execution_count": 5,
   "metadata": {},
   "outputs": [
    {
     "name": "stdout",
     "output_type": "stream",
     "text": [
      "3\n"
     ]
    }
   ],
   "source": [
    "test = \"XXXX\"\n",
    "locals()[test] = 3\n",
    "print(XXXX)"
   ]
  },
  {
   "cell_type": "markdown",
   "metadata": {},
   "source": [
    "`locals()`是一个内置方法，可以使用字典的方式访问所有局部变量\n",
    "\n",
    "# 从命令行传递参数\n",
    "使用`sys.argv`可以获取命令行传入的参数，但是若要像命令行软件一样从使用丰富的参数前缀，可以考虑使用`getopt.getopt()`方法\n",
    "\n",
    "```\n",
    "mode, _ = getopt.getopt(\n",
    "    sys.argv[1:], \"ambchs:t:o:\", [\n",
    "        \"a\", \"m\", \"b\", \"c\", \"h\", \"source=\", \"target=\", \"other=\"])\n",
    "```\n",
    "\n",
    "该方法传入：\n",
    "- 命令行传入参数（argv\\[0\\]是脚本的名字）\n",
    "- 命令选项的单字母表示（例如传入'a'，可以在命令行中表示-a，后带`:`的需要带传入参数的）\n",
    "- （可选）命令行的长表示（例如\"source=\"和之前的\"s:\"，在命令行中可以使用`-s`或`--source`后接参数）\n",
    "\n",
    "传出的第一个参数一个命令行选项——数值的对，解析过程参照\n",
    "\n",
    "```\n",
    "for name, value in mode:\n",
    "    if name in (\"-s\", \"--source\"):\n",
    "        source_path = value\n",
    "    elif name in (\"-t\", \"--target\"):\n",
    "        target_path = value\n",
    "    elif name in (\"-o\", \"--other\"):\n",
    "        other_parameter = value\n",
    "```"
   ]
  }
 ],
 "metadata": {
  "kernelspec": {
   "display_name": "Python 3",
   "language": "python",
   "name": "python3"
  },
  "language_info": {
   "codemirror_mode": {
    "name": "ipython",
    "version": 3
   },
   "file_extension": ".py",
   "mimetype": "text/x-python",
   "name": "python",
   "nbconvert_exporter": "python",
   "pygments_lexer": "ipython3",
   "version": "3.5.3"
  }
 },
 "nbformat": 4,
 "nbformat_minor": 2
}
